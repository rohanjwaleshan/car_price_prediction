{
 "cells": [
  {
   "cell_type": "code",
   "execution_count": 1,
   "id": "2226f819",
   "metadata": {},
   "outputs": [],
   "source": [
    "#Required Packages\n",
    "import pandas as pd\n",
    "import matplotlib.pyplot as plt\n",
    "import numpy as np\n",
    "import seaborn as sns"
   ]
  },
  {
   "cell_type": "code",
   "execution_count": 2,
   "id": "b0329535",
   "metadata": {},
   "outputs": [],
   "source": [
    "#Reading in dataset\n",
    "df = pd.read_excel('Car details v3.xlsx')"
   ]
  },
  {
   "cell_type": "markdown",
   "id": "c1357bb9",
   "metadata": {},
   "source": [
    "# Data Cleaning and EDA"
   ]
  },
  {
   "cell_type": "code",
   "execution_count": 3,
   "id": "4c7fc70f",
   "metadata": {},
   "outputs": [
    {
     "name": "stdout",
     "output_type": "stream",
     "text": [
      "(8128, 13)\n",
      "                           name  year  selling_price  km_driven    fuel  \\\n",
      "0        Maruti Swift Dzire VDI  2014         450000     145500  Diesel   \n",
      "1  Skoda Rapid 1.5 TDI Ambition  2014         370000     120000  Diesel   \n",
      "2      Honda City 2017-2020 EXi  2006         158000     140000  Petrol   \n",
      "3     Hyundai i20 Sportz Diesel  2010         225000     127000  Diesel   \n",
      "4        Maruti Swift VXI BSIII  2007         130000     120000  Petrol   \n",
      "\n",
      "  seller_type transmission         owner     mileage   engine   max_power  \\\n",
      "0  Individual       Manual   First Owner   23.4 kmpl  1248 CC      74 bhp   \n",
      "1  Individual       Manual  Second Owner  21.14 kmpl  1498 CC  103.52 bhp   \n",
      "2  Individual       Manual   Third Owner   17.7 kmpl  1497 CC      78 bhp   \n",
      "3  Individual       Manual   First Owner   23.0 kmpl  1396 CC      90 bhp   \n",
      "4  Individual       Manual   First Owner   16.1 kmpl  1298 CC    88.2 bhp   \n",
      "\n",
      "                     torque  seats  \n",
      "0            190Nm@ 2000rpm    5.0  \n",
      "1       250Nm@ 1500-2500rpm    5.0  \n",
      "2     12.7@ 2,700(kgm@ rpm)    5.0  \n",
      "3  22.4 kgm at 1750-2750rpm    5.0  \n",
      "4     11.5@ 4,500(kgm@ rpm)    5.0  \n",
      "<class 'pandas.core.frame.DataFrame'>\n",
      "RangeIndex: 8128 entries, 0 to 8127\n",
      "Data columns (total 13 columns):\n",
      " #   Column         Non-Null Count  Dtype  \n",
      "---  ------         --------------  -----  \n",
      " 0   name           8128 non-null   object \n",
      " 1   year           8128 non-null   int64  \n",
      " 2   selling_price  8128 non-null   int64  \n",
      " 3   km_driven      8128 non-null   int64  \n",
      " 4   fuel           8128 non-null   object \n",
      " 5   seller_type    8128 non-null   object \n",
      " 6   transmission   8128 non-null   object \n",
      " 7   owner          8128 non-null   object \n",
      " 8   mileage        7907 non-null   object \n",
      " 9   engine         7907 non-null   object \n",
      " 10  max_power      7913 non-null   object \n",
      " 11  torque         7906 non-null   object \n",
      " 12  seats          7907 non-null   float64\n",
      "dtypes: float64(1), int64(3), object(9)\n",
      "memory usage: 825.6+ KB\n",
      "None\n"
     ]
    }
   ],
   "source": [
    "print(df.shape)\n",
    "print(df.head())\n",
    "print(df.info()) #Missing values for mileage, engine, max_power, torque, and seats"
   ]
  },
  {
   "cell_type": "code",
   "execution_count": 4,
   "id": "6711386c",
   "metadata": {},
   "outputs": [
    {
     "name": "stdout",
     "output_type": "stream",
     "text": [
      "name               0\n",
      "year               0\n",
      "selling_price      0\n",
      "km_driven          0\n",
      "fuel               0\n",
      "seller_type        0\n",
      "transmission       0\n",
      "owner              0\n",
      "mileage          221\n",
      "engine           221\n",
      "max_power        215\n",
      "torque           222\n",
      "seats            221\n",
      "dtype: int64\n"
     ]
    }
   ],
   "source": [
    "# Missing values\n",
    "print(df.isnull().sum())"
   ]
  },
  {
   "cell_type": "code",
   "execution_count": 5,
   "id": "1b7b231e",
   "metadata": {},
   "outputs": [
    {
     "name": "stdout",
     "output_type": "stream",
     "text": [
      "name             0\n",
      "year             0\n",
      "selling_price    0\n",
      "km_driven        0\n",
      "fuel             0\n",
      "seller_type      0\n",
      "transmission     0\n",
      "owner            0\n",
      "mileage          0\n",
      "engine           0\n",
      "max_power        0\n",
      "torque           0\n",
      "seats            0\n",
      "dtype: int64\n"
     ]
    }
   ],
   "source": [
    "#Dropping missing values\n",
    "df = df.dropna()\n",
    "print(df.isnull().sum())"
   ]
  },
  {
   "cell_type": "code",
   "execution_count": 6,
   "id": "4e82fb40",
   "metadata": {},
   "outputs": [],
   "source": [
    "#Obtaining just the car manufacturer name\n",
    "df['name'] = df['name'].str.split().apply(lambda x: x[0])"
   ]
  },
  {
   "cell_type": "code",
   "execution_count": 7,
   "id": "61d74923",
   "metadata": {},
   "outputs": [],
   "source": [
    "#Changing name of car to its origin\n",
    "df['origin'] = df['name'].replace(['Maruti','Skoda','Honda','Hyundai','Toyota','Ford','Renault','Mahindra','Tata','Chevrolet',\n",
    "'Datsun','Jeep','Mercedes-Benz','Mitsubishi','Audi','Volkswagen','BMW','Nissan','Lexus','Jaguar','Land','MG','Volvo','Daewoo',\n",
    "'Kia','Fiat','Force','Ambassador','Ashok','Isuzu','Opel'],['Asia','Europe','Asia','Asia','Asia','North America','Europe','Asia',\n",
    "                                                          'Asia','North America','Asia','North America','Europe','Asia','Europe',\n",
    "                                                          'Europe','Europe','Asia','Asia','Europe','Europe','Europe','Europe','Asia',\n",
    "                                                          'Asia','Europe','Asia','Asia','Asia','Asia','Europe'])"
   ]
  },
  {
   "cell_type": "code",
   "execution_count": 8,
   "id": "0e473d70",
   "metadata": {},
   "outputs": [
    {
     "name": "stdout",
     "output_type": "stream",
     "text": [
      "Diesel    4299\n",
      "Petrol    3520\n",
      "CNG         52\n",
      "LPG         35\n",
      "Name: fuel, dtype: int64\n"
     ]
    },
    {
     "data": {
      "image/png": "[encoded data removed]",
      "text/plain": [
       "<Figure size 432x288 with 1 Axes>"
      ]
     },
     "metadata": {
      "needs_background": "light"
     },
     "output_type": "display_data"
    }
   ],
   "source": [
    "#Seeing unique values for fuel\n",
    "print(df['fuel'].value_counts())\n",
    "df['fuel'].value_counts().plot(kind='bar')\n",
    "plt.ylabel('Frequency')\n",
    "plt.show()"
   ]
  },
  {
   "cell_type": "code",
   "execution_count": 9,
   "id": "326985b3",
   "metadata": {},
   "outputs": [
    {
     "name": "stdout",
     "output_type": "stream",
     "text": [
      "Diesel    4299\n",
      "Petrol    3520\n",
      "Name: fuel, dtype: int64\n"
     ]
    }
   ],
   "source": [
    "#Dropping rows where fuel equals 'CNG' or 'LPG' (Reduce complexity of variable)\n",
    "df = df[(df['fuel'] != 'CNG') & (df['fuel'] != 'LPG')]\n",
    "print(df['fuel'].value_counts())"
   ]
  },
  {
   "cell_type": "code",
   "execution_count": 10,
   "id": "0565e622",
   "metadata": {},
   "outputs": [
    {
     "name": "stdout",
     "output_type": "stream",
     "text": [
      "0     23.4 kmpl\n",
      "1    21.14 kmpl\n",
      "2     17.7 kmpl\n",
      "3     23.0 kmpl\n",
      "4     16.1 kmpl\n",
      "Name: mileage, dtype: object\n",
      "kmpl    7819\n",
      "Name: mileage_units, dtype: int64\n"
     ]
    }
   ],
   "source": [
    "#Determining if mileage units are the same for all values in dataset\n",
    "print(df['mileage'].head())\n",
    "df['mileage_units'] = df['mileage'].apply(lambda x: str(x)).str.split().apply(lambda x: x[1]) \n",
    "print(df['mileage_units'].value_counts()) #kmpl is the only unit\n",
    "df['mileage'] = df['mileage'].apply(lambda x: str(x)).str.split().apply(lambda x: x[0]).apply(lambda x: float(x)) #Removing 'kmpl' unit from mileage column\n",
    "df.drop('mileage_units',axis=1,inplace=True) #Dropping mileage units"
   ]
  },
  {
   "cell_type": "code",
   "execution_count": 11,
   "id": "648fee12",
   "metadata": {},
   "outputs": [
    {
     "name": "stdout",
     "output_type": "stream",
     "text": [
      "0    1248 CC\n",
      "1    1498 CC\n",
      "2    1497 CC\n",
      "3    1396 CC\n",
      "4    1298 CC\n",
      "Name: engine, dtype: object\n",
      "CC    7819\n",
      "Name: engine_units, dtype: int64\n"
     ]
    }
   ],
   "source": [
    "#Removing 'CC' unit from engine column\n",
    "print(df['engine'].head())\n",
    "df['engine_units'] = df['engine'].apply(lambda x: str(x)).str.split().apply(lambda x: x[1])\n",
    "print(df['engine_units'].value_counts()) # CC is the only engine unit\n",
    "df['engine'] = df['engine'].apply(lambda x: str(x)).str.split().apply(lambda x: x[0]).apply(lambda x: int(x))\n",
    "df.drop('engine_units',axis=1,inplace=True)"
   ]
  },
  {
   "cell_type": "code",
   "execution_count": 12,
   "id": "51aa27c4",
   "metadata": {},
   "outputs": [
    {
     "name": "stdout",
     "output_type": "stream",
     "text": [
      "0        74 bhp\n",
      "1    103.52 bhp\n",
      "2        78 bhp\n",
      "3        90 bhp\n",
      "4      88.2 bhp\n",
      "Name: max_power, dtype: object\n",
      "bhp    7819\n",
      "Name: max_power_units, dtype: int64\n"
     ]
    }
   ],
   "source": [
    "#Removing 'bhp' unit from max_power column\n",
    "print(df['max_power'].head())\n",
    "df['max_power_units'] = df['max_power'].apply(lambda x: str(x)).str.split().apply(lambda x: x[1])\n",
    "print(df['max_power_units'].value_counts()) #bhp is the only max power unit\n",
    "df['max_power'] = df['max_power'].apply(lambda x: str(x)).str.split().apply(lambda x: x[0]).apply(lambda x: float(x))\n",
    "df.drop('max_power_units',axis=1,inplace=True)"
   ]
  },
  {
   "cell_type": "code",
   "execution_count": 13,
   "id": "1a991a79",
   "metadata": {},
   "outputs": [],
   "source": [
    "#Dropping torque (units were difficult to clean)\n",
    "df.drop('torque',axis=1,inplace=True)"
   ]
  },
  {
   "cell_type": "code",
   "execution_count": 14,
   "id": "9b983dda",
   "metadata": {},
   "outputs": [
    {
     "data": {
      "text/html": [
       "<div>\n",
       "<style scoped>\n",
       "    .dataframe tbody tr th:only-of-type {\n",
       "        vertical-align: middle;\n",
       "    }\n",
       "\n",
       "    .dataframe tbody tr th {\n",
       "        vertical-align: top;\n",
       "    }\n",
       "\n",
       "    .dataframe thead th {\n",
       "        text-align: right;\n",
       "    }\n",
       "</style>\n",
       "<table border=\"1\" class=\"dataframe\">\n",
       "  <thead>\n",
       "    <tr style=\"text-align: right;\">\n",
       "      <th></th>\n",
       "      <th>year</th>\n",
       "      <th>km_driven</th>\n",
       "      <th>mileage</th>\n",
       "      <th>engine</th>\n",
       "      <th>max_power</th>\n",
       "      <th>seats</th>\n",
       "      <th>selling_price</th>\n",
       "    </tr>\n",
       "  </thead>\n",
       "  <tbody>\n",
       "    <tr>\n",
       "      <th>count</th>\n",
       "      <td>7819.000000</td>\n",
       "      <td>7.819000e+03</td>\n",
       "      <td>7819.000000</td>\n",
       "      <td>7819.000000</td>\n",
       "      <td>7819.000000</td>\n",
       "      <td>7819.000000</td>\n",
       "      <td>7.819000e+03</td>\n",
       "    </tr>\n",
       "    <tr>\n",
       "      <th>mean</th>\n",
       "      <td>2013.990280</td>\n",
       "      <td>6.912583e+04</td>\n",
       "      <td>19.390375</td>\n",
       "      <td>1463.090677</td>\n",
       "      <td>91.935226</td>\n",
       "      <td>5.421281</td>\n",
       "      <td>6.539858e+05</td>\n",
       "    </tr>\n",
       "    <tr>\n",
       "      <th>std</th>\n",
       "      <td>3.865268</td>\n",
       "      <td>5.687384e+04</td>\n",
       "      <td>4.001777</td>\n",
       "      <td>504.655439</td>\n",
       "      <td>35.770104</td>\n",
       "      <td>0.962876</td>\n",
       "      <td>8.170529e+05</td>\n",
       "    </tr>\n",
       "    <tr>\n",
       "      <th>min</th>\n",
       "      <td>1994.000000</td>\n",
       "      <td>1.000000e+03</td>\n",
       "      <td>0.000000</td>\n",
       "      <td>624.000000</td>\n",
       "      <td>34.200000</td>\n",
       "      <td>2.000000</td>\n",
       "      <td>2.999900e+04</td>\n",
       "    </tr>\n",
       "    <tr>\n",
       "      <th>25%</th>\n",
       "      <td>2012.000000</td>\n",
       "      <td>3.400000e+04</td>\n",
       "      <td>16.780000</td>\n",
       "      <td>1197.000000</td>\n",
       "      <td>69.000000</td>\n",
       "      <td>5.000000</td>\n",
       "      <td>2.700000e+05</td>\n",
       "    </tr>\n",
       "    <tr>\n",
       "      <th>50%</th>\n",
       "      <td>2015.000000</td>\n",
       "      <td>6.000000e+04</td>\n",
       "      <td>19.300000</td>\n",
       "      <td>1248.000000</td>\n",
       "      <td>82.400000</td>\n",
       "      <td>5.000000</td>\n",
       "      <td>4.550000e+05</td>\n",
       "    </tr>\n",
       "    <tr>\n",
       "      <th>75%</th>\n",
       "      <td>2017.000000</td>\n",
       "      <td>9.600000e+04</td>\n",
       "      <td>22.320000</td>\n",
       "      <td>1582.000000</td>\n",
       "      <td>102.000000</td>\n",
       "      <td>5.000000</td>\n",
       "      <td>6.950000e+05</td>\n",
       "    </tr>\n",
       "    <tr>\n",
       "      <th>max</th>\n",
       "      <td>2020.000000</td>\n",
       "      <td>2.360457e+06</td>\n",
       "      <td>42.000000</td>\n",
       "      <td>3604.000000</td>\n",
       "      <td>400.000000</td>\n",
       "      <td>14.000000</td>\n",
       "      <td>1.000000e+07</td>\n",
       "    </tr>\n",
       "  </tbody>\n",
       "</table>\n",
       "</div>"
      ],
      "text/plain": [
       "              year     km_driven      mileage       engine    max_power  \\\n",
       "count  7819.000000  7.819000e+03  7819.000000  7819.000000  7819.000000   \n",
       "mean   2013.990280  6.912583e+04    19.390375  1463.090677    91.935226   \n",
       "std       3.865268  5.687384e+04     4.001777   504.655439    35.770104   \n",
       "min    1994.000000  1.000000e+03     0.000000   624.000000    34.200000   \n",
       "25%    2012.000000  3.400000e+04    16.780000  1197.000000    69.000000   \n",
       "50%    2015.000000  6.000000e+04    19.300000  1248.000000    82.400000   \n",
       "75%    2017.000000  9.600000e+04    22.320000  1582.000000   102.000000   \n",
       "max    2020.000000  2.360457e+06    42.000000  3604.000000   400.000000   \n",
       "\n",
       "             seats  selling_price  \n",
       "count  7819.000000   7.819000e+03  \n",
       "mean      5.421281   6.539858e+05  \n",
       "std       0.962876   8.170529e+05  \n",
       "min       2.000000   2.999900e+04  \n",
       "25%       5.000000   2.700000e+05  \n",
       "50%       5.000000   4.550000e+05  \n",
       "75%       5.000000   6.950000e+05  \n",
       "max      14.000000   1.000000e+07  "
      ]
     },
     "execution_count": 14,
     "metadata": {},
     "output_type": "execute_result"
    }
   ],
   "source": [
    "#General statistics for numeric variables\n",
    "df[['year', 'km_driven', 'mileage','engine','max_power', 'seats', 'selling_price']].describe()"
   ]
  },
  {
   "cell_type": "code",
   "execution_count": 15,
   "id": "4e8e8d8b",
   "metadata": {},
   "outputs": [
    {
     "name": "stdout",
     "output_type": "stream",
     "text": [
      "          name  year  selling_price  km_driven    fuel seller_type  \\\n",
      "1810  Mahindra  2012         500000    1500000  Diesel  Individual   \n",
      "3486   Hyundai  2007         550000    2360457  Petrol  Individual   \n",
      "\n",
      "     transmission         owner  mileage  engine  max_power  seats origin  \n",
      "1810       Manual   First Owner     15.1    2179     140.00    7.0   Asia  \n",
      "3486       Manual  Second Owner     18.6    1197      81.83    5.0   Asia  \n"
     ]
    }
   ],
   "source": [
    "#Dropping cars with unreasonably high km_driven (804672km = 500000 miles)\n",
    "print(df[df['km_driven']>= 804672])\n",
    "sus_km = df[df['km_driven']>= 804672].index\n",
    "df.drop(sus_km, axis=0, inplace=True)"
   ]
  },
  {
   "cell_type": "code",
   "execution_count": 16,
   "id": "2b49bcc6",
   "metadata": {},
   "outputs": [
    {
     "name": "stdout",
     "output_type": "stream",
     "text": [
      "count    603.000000\n",
      "mean      26.534511\n",
      "std        1.173290\n",
      "min       25.100000\n",
      "25%       25.440000\n",
      "50%       26.210000\n",
      "75%       27.390000\n",
      "max       28.400000\n",
      "Name: mileage, dtype: float64\n",
      "         name  year  selling_price  km_driven    fuel seller_type  \\\n",
      "21      Honda  2017         950000      50000  Diesel  Individual   \n",
      "22     Maruti  2015         525000      40000  Diesel  Individual   \n",
      "52      Honda  2015         600000      54700  Diesel      Dealer   \n",
      "54      Honda  2015         525000      63000  Diesel      Dealer   \n",
      "64     Maruti  2015         630000     147000  Diesel  Individual   \n",
      "...       ...   ...            ...        ...     ...         ...   \n",
      "8040  Hyundai  2018         680000      26000  Diesel  Individual   \n",
      "8046    Honda  2017         525000      37151  Diesel      Dealer   \n",
      "8070    Honda  2015         409999      60000  Diesel  Individual   \n",
      "8075   Maruti  2014         560000      90000  Diesel  Individual   \n",
      "8117   Maruti  2015         625000      50000  Diesel  Individual   \n",
      "\n",
      "     transmission         owner  mileage  engine  max_power  seats origin  \n",
      "21         Manual   First Owner    25.50    1498      98.60    5.0   Asia  \n",
      "22         Manual   First Owner    26.59    1248      74.00    5.0   Asia  \n",
      "52         Manual   First Owner    26.00    1498      98.60    5.0   Asia  \n",
      "54         Manual   First Owner    27.30    1498      98.60    5.0   Asia  \n",
      "64         Manual  Second Owner    26.59    1248      74.00    5.0   Asia  \n",
      "...           ...           ...      ...     ...        ...    ...    ...  \n",
      "8040       Manual   First Owner    25.40    1186      73.97    5.0   Asia  \n",
      "8046       Manual   First Owner    27.30    1498      98.60    5.0   Asia  \n",
      "8070       Manual   First Owner    25.80    1498      98.60    5.0   Asia  \n",
      "8075       Manual  Second Owner    26.21    1248      88.50    5.0   Asia  \n",
      "8117       Manual   First Owner    26.59    1248      74.00    5.0   Asia  \n",
      "\n",
      "[603 rows x 13 columns]\n"
     ]
    }
   ],
   "source": [
    "# Determining suspicious mileage for diesel cars (59mpg = 25.0835 kmpl).\n",
    "# I found a source that explains how diesel cars have high mileage so I didn't remove any values.\n",
    "print(df['mileage'][(df['mileage']>=25.0835) & (df['fuel'] == 'Diesel')].describe())\n",
    "print(df[(df['mileage']>=25.0835) & (df['fuel'] == 'Diesel')])"
   ]
  },
  {
   "cell_type": "code",
   "execution_count": 17,
   "id": "2c0c5fe0",
   "metadata": {},
   "outputs": [
    {
     "name": "stdout",
     "output_type": "stream",
     "text": [
      "count    85.000000\n",
      "mean     25.471529\n",
      "std       1.829099\n",
      "min      25.170000\n",
      "25%      25.170000\n",
      "50%      25.170000\n",
      "75%      25.170000\n",
      "max      42.000000\n",
      "Name: mileage, dtype: float64\n",
      "         name  year  selling_price  km_driven    fuel seller_type  \\\n",
      "170     Volvo  2017       10000000      30000  Petrol  Individual   \n",
      "221   Renault  2018         335000      30000  Petrol  Individual   \n",
      "237   Renault  2016         270000      44000  Petrol  Individual   \n",
      "317   Renault  2016         229999      40000  Petrol  Individual   \n",
      "363      Tata  2012          64000      18000  Petrol      Dealer   \n",
      "...       ...   ...            ...        ...     ...         ...   \n",
      "7833     Tata  2012          45000      28000  Petrol  Individual   \n",
      "7848  Renault  2019         290000      21000  Petrol  Individual   \n",
      "7850  Renault  2016         250000      22000  Petrol  Individual   \n",
      "7911  Renault  2017         320000      28000  Petrol  Individual   \n",
      "8089     Tata  2011          46000      25000  Petrol  Individual   \n",
      "\n",
      "     transmission         owner  mileage  engine  max_power  seats  origin  \n",
      "170     Automatic   First Owner    42.00    1969      400.0    4.0  Europe  \n",
      "221        Manual   First Owner    25.17     799       53.3    5.0  Europe  \n",
      "237        Manual   First Owner    25.17     799       53.3    5.0  Europe  \n",
      "317        Manual   First Owner    25.17     799       53.3    5.0  Europe  \n",
      "363        Manual   First Owner    25.40     624       37.5    4.0    Asia  \n",
      "...           ...           ...      ...     ...        ...    ...     ...  \n",
      "7833       Manual  Second Owner    25.40     624       37.5    4.0    Asia  \n",
      "7848       Manual   First Owner    25.17     799       53.3    5.0  Europe  \n",
      "7850       Manual   First Owner    25.17     799       53.3    5.0  Europe  \n",
      "7911       Manual   First Owner    25.17     799       53.3    5.0  Europe  \n",
      "8089       Manual  Second Owner    26.00     624       35.0    4.0    Asia  \n",
      "\n",
      "[85 rows x 13 columns]\n"
     ]
    }
   ],
   "source": [
    "# Determining suspicious mileage for petrol cars\n",
    "# I found a source that some petrol cars have high mileage so I decided not to remove any values.\n",
    "print(df['mileage'][(df['mileage']>=25.0835) & (df['fuel'] == 'Petrol')].describe())\n",
    "print(df[(df['mileage']>=25.0835) & (df['fuel'] == 'Petrol')])"
   ]
  },
  {
   "cell_type": "code",
   "execution_count": 18,
   "id": "4ec42736",
   "metadata": {},
   "outputs": [
    {
     "name": "stdout",
     "output_type": "stream",
     "text": [
      "       name  year  selling_price  km_driven    fuel seller_type transmission  \\\n",
      "170   Volvo  2017       10000000      30000  Petrol  Individual    Automatic   \n",
      "709    Tata  2011          45000      10000  Petrol  Individual       Manual   \n",
      "1267   Tata  2010          55000      50000  Petrol  Individual       Manual   \n",
      "2770   Tata  2009          70000      15000  Petrol  Individual       Manual   \n",
      "5878   Tata  2011          70000      40000  Petrol  Individual       Manual   \n",
      "6738   Tata  2010          45000      30400  Petrol  Individual       Manual   \n",
      "7624   Tata  2011          70000      80000  Petrol  Individual       Manual   \n",
      "8089   Tata  2011          46000      25000  Petrol  Individual       Manual   \n",
      "\n",
      "                     owner  mileage  engine  max_power  seats  origin  \n",
      "170            First Owner     42.0    1969      400.0    4.0  Europe  \n",
      "709            Third Owner     26.0     624       35.0    4.0    Asia  \n",
      "1267           Third Owner     26.0     624       35.0    4.0    Asia  \n",
      "2770           First Owner     26.0     624       35.0    4.0    Asia  \n",
      "5878           First Owner     26.0     624       35.0    4.0    Asia  \n",
      "6738  Fourth & Above Owner     26.0     624       35.0    4.0    Asia  \n",
      "7624           First Owner     26.0     624       35.0    4.0    Asia  \n",
      "8089          Second Owner     26.0     624       35.0    4.0    Asia  \n"
     ]
    }
   ],
   "source": [
    "#Suspicious mileage value for petrol car with suspicious selling price\n",
    "#Found a source that confirmed this car (index 170) did not have such high mileage\n",
    "print(df[(df['mileage']>=26) & (df['fuel']=='Petrol')])\n",
    "df.drop(170,axis=0,inplace=True)"
   ]
  },
  {
   "cell_type": "code",
   "execution_count": 19,
   "id": "984c9c1e",
   "metadata": {},
   "outputs": [
    {
     "name": "stdout",
     "output_type": "stream",
     "text": [
      "count    7816.000000\n",
      "mean       91.890955\n",
      "std        35.602487\n",
      "min        34.200000\n",
      "25%        69.000000\n",
      "50%        82.400000\n",
      "75%       102.000000\n",
      "max       282.000000\n",
      "Name: max_power, dtype: float64\n"
     ]
    }
   ],
   "source": [
    "#Determing values with suspicious max_power bhp\n",
    "#Found a source with cars that can go up to 400bhp\n",
    "print(df['max_power'].describe())"
   ]
  },
  {
   "cell_type": "code",
   "execution_count": 20,
   "id": "3f2cdd21",
   "metadata": {},
   "outputs": [
    {
     "data": {
      "image/png": "[encoded data removed]",
      "text/plain": [
       "<Figure size 432x288 with 1 Axes>"
      ]
     },
     "metadata": {
      "needs_background": "light"
     },
     "output_type": "display_data"
    },
    {
     "name": "stdout",
     "output_type": "stream",
     "text": [
      "count    7.816000e+03\n",
      "mean     6.528231e+05\n",
      "std      8.103388e+05\n",
      "min      2.999900e+04\n",
      "25%      2.700000e+05\n",
      "50%      4.550000e+05\n",
      "75%      6.950000e+05\n",
      "max      7.200000e+06\n",
      "Name: selling_price, dtype: float64\n",
      "               name  year  selling_price  km_driven    fuel seller_type  \\\n",
      "132           Lexus  2019        5150000      20000  Petrol      Dealer   \n",
      "136   Mercedes-Benz  2017        6000000      37000  Diesel      Dealer   \n",
      "139             BMW  2019        5800000       7500  Diesel      Dealer   \n",
      "148   Mercedes-Benz  2017        5850000      47000  Diesel      Dealer   \n",
      "288   Mercedes-Benz  2018        4600000       7976  Diesel  Individual   \n",
      "...             ...   ...            ...        ...     ...         ...   \n",
      "7757            BMW  2019        5200000      10000  Diesel      Dealer   \n",
      "7859          Lexus  2019        5150000      20000  Petrol      Dealer   \n",
      "7872            BMW  2019        5400000       7500  Diesel      Dealer   \n",
      "7873            BMW  2019        5500000       8500  Diesel      Dealer   \n",
      "7930          Volvo  2019        5500000      17000  Diesel  Individual   \n",
      "\n",
      "     transmission        owner  mileage  engine  max_power  seats  origin  \n",
      "132     Automatic  First Owner    22.37    2487     214.56    5.0    Asia  \n",
      "136     Automatic  First Owner    13.50    2987     254.79    5.0  Europe  \n",
      "139     Automatic  First Owner    16.78    1995     190.00    5.0  Europe  \n",
      "148     Automatic  First Owner    13.50    2987     282.00    5.0  Europe  \n",
      "288     Automatic  First Owner    17.90    2143     170.00    5.0  Europe  \n",
      "...           ...          ...      ...     ...        ...    ...     ...  \n",
      "7757    Automatic  First Owner    18.12    1995     190.00    5.0  Europe  \n",
      "7859    Automatic  First Owner    22.37    2487     214.56    5.0    Asia  \n",
      "7872    Automatic  First Owner    16.78    1995     190.00    5.0  Europe  \n",
      "7873    Automatic  First Owner    16.78    1995     190.00    5.0  Europe  \n",
      "7930    Automatic  First Owner    18.00    1969     190.00    5.0  Europe  \n",
      "\n",
      "[118 rows x 13 columns]\n"
     ]
    }
   ],
   "source": [
    "#Determining suspicious selling price\n",
    "#Found a source that explains why cars are generally sold at a higher price in India compared to the U.S.\n",
    "plt.boxplot(df['selling_price'])\n",
    "plt.xlabel('Selling Price')\n",
    "plt.show()\n",
    "print(df['selling_price'].describe())\n",
    "print(df[df['selling_price']>=4558047.88]) #(4558047.88 rupees = 59785.45 U.S. dollars)"
   ]
  },
  {
   "cell_type": "code",
   "execution_count": null,
   "id": "80707685",
   "metadata": {},
   "outputs": [],
   "source": [
    "#Correlation Heatmap (which features have a strong linear relationship with selling_price)\n",
    "corr_matrix = df.corr()\n",
    "sns.heatmap(corr_matrix,annot=True)\n",
    "plt.show()"
   ]
  },
  {
   "cell_type": "code",
   "execution_count": null,
   "id": "13535461",
   "metadata": {},
   "outputs": [],
   "source": [
    "#Pairplot Linearity test\n",
    "sns.pairplot(df)\n",
    "plt.show()"
   ]
  },
  {
   "cell_type": "code",
   "execution_count": null,
   "id": "33df77f5",
   "metadata": {},
   "outputs": [],
   "source": [
    "#Relationship between features and response with fuel as category\n",
    "for i in ['year','km_driven','mileage','engine','max_power','seats']:\n",
    "    plt.figure()\n",
    "    plt.scatter(df[i],df['selling_price'],c=df['fuel'].map({'Diesel':'blue','Petrol':'orange'}))\n",
    "    plt.title(i)\n",
    "    plt.show()"
   ]
  },
  {
   "cell_type": "code",
   "execution_count": null,
   "id": "ced22a3d",
   "metadata": {},
   "outputs": [],
   "source": [
    "#Relationship between features and response with origin as category\n",
    "for i in ['year','km_driven','mileage','engine','max_power','seats']:\n",
    "    plt.figure()\n",
    "    plt.scatter(df[i],df['selling_price'],c=df['origin'].map({'Asia':'blue','Europe':'green','North America':'red'}))\n",
    "    plt.title(i)\n",
    "    plt.show()"
   ]
  },
  {
   "cell_type": "code",
   "execution_count": null,
   "id": "b7caedde",
   "metadata": {},
   "outputs": [],
   "source": [
    "#Relationship between features and response with transmission as category\n",
    "for i in ['year','km_driven','mileage','engine','max_power','seats']:\n",
    "    plt.figure()\n",
    "    plt.scatter(df[i],df['selling_price'],c=df['transmission'].map({'Automatic':'blue','Manual':'orange'}))\n",
    "    plt.title(i)\n",
    "    plt.show()"
   ]
  },
  {
   "cell_type": "code",
   "execution_count": null,
   "id": "862a8a1b",
   "metadata": {},
   "outputs": [],
   "source": [
    "#Relationship between features and response with seller_type as category\n",
    "for i in ['year','km_driven','mileage','engine','max_power','seats']:\n",
    "    plt.figure()\n",
    "    plt.scatter(df[i],df['selling_price'],c=df['seller_type'].map({'Individual':'blue','Dealer':'green','Trustmark Dealer':'red'}))\n",
    "    plt.title(i)\n",
    "    plt.show()"
   ]
  },
  {
   "cell_type": "code",
   "execution_count": 21,
   "id": "3f63294e",
   "metadata": {},
   "outputs": [],
   "source": [
    "#Dropping features that won't be used\n",
    "df.drop('name',axis=1,inplace=True)\n",
    "df.drop('owner',axis=1,inplace=True)"
   ]
  },
  {
   "cell_type": "code",
   "execution_count": 24,
   "id": "9c0b853c",
   "metadata": {},
   "outputs": [],
   "source": [
    "#Creating excel file of cleaned dataset\n",
    "df.to_excel(\"Car_details_v3_cleaned.xlsx\")"
   ]
  }
 ],
 "metadata": {
  "kernelspec": {
   "display_name": "Python 3 (ipykernel)",
   "language": "python",
   "name": "python3"
  },
  "language_info": {
   "codemirror_mode": {
    "name": "ipython",
    "version": 3
   },
   "file_extension": ".py",
   "mimetype": "text/x-python",
   "name": "python",
   "nbconvert_exporter": "python",
   "pygments_lexer": "ipython3",
   "version": "3.8.8"
  }
 },
 "nbformat": 4,
 "nbformat_minor": 5
}

{
 "cells": [
  {
   "cell_type": "markdown",
   "id": "23c8571d",
   "metadata": {},
   "source": [
    "# Decision Tree Regressor"
   ]
  },
  {
   "cell_type": "code",
   "execution_count": 1,
   "id": "ff53e09a",
   "metadata": {},
   "outputs": [],
   "source": [
    "#Required Packages\n",
    "import numpy as np\n",
    "import pandas as pd\n",
    "import matplotlib.pyplot as plt\n",
    "from sklearn.model_selection import train_test_split, cross_validate\n",
    "from sklearn.metrics import mean_squared_error, r2_score\n",
    "from math import sqrt\n",
    "from sklearn.tree import DecisionTreeRegressor\n"
   ]
  },
  {
   "cell_type": "code",
   "execution_count": 2,
   "id": "1f54215a",
   "metadata": {},
   "outputs": [],
   "source": [
    "#Reading in cleaned data\n",
    "df = pd.read_excel('Car_details_v3_cleaned.xlsx',index_col=0)"
   ]
  },
  {
   "cell_type": "code",
   "execution_count": 4,
   "id": "2161da62",
   "metadata": {},
   "outputs": [],
   "source": [
    "#Changing fuel to dummy variable (Petrol=0, Diesel=1)\n",
    "df['fuel'] = np.where(df['fuel']=='Diesel',1,0)"
   ]
  },
  {
   "cell_type": "code",
   "execution_count": 5,
   "id": "35b57e82",
   "metadata": {},
   "outputs": [],
   "source": [
    "#Changing transmission to dummy variable (Manual=0, Automatic=1)\n",
    "df['transmission'] = np.where(df['transmission']=='Automatic',1,0)"
   ]
  },
  {
   "cell_type": "code",
   "execution_count": 6,
   "id": "7b7091ce",
   "metadata": {},
   "outputs": [
    {
     "name": "stdout",
     "output_type": "stream",
     "text": [
      "      year  selling_price  km_driven  fuel  transmission  mileage  engine  \\\n",
      "0     2014         450000     145500     1             0    23.40    1248   \n",
      "1     2014         370000     120000     1             0    21.14    1498   \n",
      "2     2006         158000     140000     0             0    17.70    1497   \n",
      "3     2010         225000     127000     1             0    23.00    1396   \n",
      "4     2007         130000     120000     0             0    16.10    1298   \n",
      "...    ...            ...        ...   ...           ...      ...     ...   \n",
      "8123  2013         320000     110000     0             0    18.50    1197   \n",
      "8124  2007         135000     119000     1             0    16.80    1493   \n",
      "8125  2009         382000     120000     1             0    19.30    1248   \n",
      "8126  2013         290000      25000     1             0    23.57    1396   \n",
      "8127  2013         290000      25000     1             0    23.57    1396   \n",
      "\n",
      "      max_power  seats  origin  Dealer  Individual  \n",
      "0         74.00      5    Asia       0           1  \n",
      "1        103.52      5  Europe       0           1  \n",
      "2         78.00      5    Asia       0           1  \n",
      "3         90.00      5    Asia       0           1  \n",
      "4         88.20      5    Asia       0           1  \n",
      "...         ...    ...     ...     ...         ...  \n",
      "8123      82.85      5    Asia       0           1  \n",
      "8124     110.00      5    Asia       0           1  \n",
      "8125      73.90      5    Asia       0           1  \n",
      "8126      70.00      5    Asia       0           1  \n",
      "8127      70.00      5    Asia       0           1  \n",
      "\n",
      "[7816 rows x 12 columns]\n"
     ]
    }
   ],
   "source": [
    "#One hot encoding seller_type\n",
    "seller_type = pd.get_dummies(df['seller_type'])\n",
    "df_tree = pd.concat([df,seller_type],axis=1)\n",
    "df_tree.drop(['seller_type','Trustmark Dealer'],axis=1,inplace=True)\n",
    "print(df_tree)"
   ]
  },
  {
   "cell_type": "code",
   "execution_count": 7,
   "id": "a6a32198",
   "metadata": {},
   "outputs": [
    {
     "name": "stdout",
     "output_type": "stream",
     "text": [
      "      year  selling_price  km_driven  fuel  transmission  mileage  engine  \\\n",
      "0     2014         450000     145500     1             0    23.40    1248   \n",
      "1     2014         370000     120000     1             0    21.14    1498   \n",
      "2     2006         158000     140000     0             0    17.70    1497   \n",
      "3     2010         225000     127000     1             0    23.00    1396   \n",
      "4     2007         130000     120000     0             0    16.10    1298   \n",
      "...    ...            ...        ...   ...           ...      ...     ...   \n",
      "8123  2013         320000     110000     0             0    18.50    1197   \n",
      "8124  2007         135000     119000     1             0    16.80    1493   \n",
      "8125  2009         382000     120000     1             0    19.30    1248   \n",
      "8126  2013         290000      25000     1             0    23.57    1396   \n",
      "8127  2013         290000      25000     1             0    23.57    1396   \n",
      "\n",
      "      max_power  seats  Dealer  Individual  Asia  Europe  \n",
      "0         74.00      5       0           1     1       0  \n",
      "1        103.52      5       0           1     0       1  \n",
      "2         78.00      5       0           1     1       0  \n",
      "3         90.00      5       0           1     1       0  \n",
      "4         88.20      5       0           1     1       0  \n",
      "...         ...    ...     ...         ...   ...     ...  \n",
      "8123      82.85      5       0           1     1       0  \n",
      "8124     110.00      5       0           1     1       0  \n",
      "8125      73.90      5       0           1     1       0  \n",
      "8126      70.00      5       0           1     1       0  \n",
      "8127      70.00      5       0           1     1       0  \n",
      "\n",
      "[7816 rows x 13 columns]\n"
     ]
    }
   ],
   "source": [
    "#One hot encoding origin\n",
    "origin = pd.get_dummies(df['origin'])\n",
    "df_tree = pd.concat([df_tree,origin],axis=1)\n",
    "df_tree.drop(['origin','North America'],axis=1,inplace=True)\n",
    "print(df_tree)"
   ]
  },
  {
   "cell_type": "code",
   "execution_count": 8,
   "id": "22803be3",
   "metadata": {},
   "outputs": [],
   "source": [
    "#Splitting data into training and test data\n",
    "X = df_tree.drop('selling_price',axis=1)\n",
    "y = df_tree['selling_price']\n",
    "X_train,X_test,y_train,y_test = train_test_split(X,y,random_state=0)"
   ]
  },
  {
   "cell_type": "code",
   "execution_count": 9,
   "id": "0a414e72",
   "metadata": {},
   "outputs": [
    {
     "data": {
      "text/plain": [
       "DecisionTreeRegressor(random_state=0)"
      ]
     },
     "execution_count": 9,
     "metadata": {},
     "output_type": "execute_result"
    }
   ],
   "source": [
    "# Decision Tree with default parameters\n",
    "dt = DecisionTreeRegressor(random_state=0)\n",
    "dt.fit(X_train, y_train)"
   ]
  },
  {
   "cell_type": "code",
   "execution_count": 10,
   "id": "c6779ef8",
   "metadata": {},
   "outputs": [],
   "source": [
    "#Predicting selling_price for train and test data\n",
    "y_pred_train = dt.predict(X_train)\n",
    "y_pred_test = dt.predict(X_test)"
   ]
  },
  {
   "cell_type": "code",
   "execution_count": 11,
   "id": "1bfdecce",
   "metadata": {},
   "outputs": [
    {
     "name": "stdout",
     "output_type": "stream",
     "text": [
      "RMSE for training data: 17863.31688654161\n",
      "RMSE for test data: 161164.2576840692\n",
      "R^2 for train data: 0.9995204389987287\n",
      "R^2 for test data: 0.9587629878807437\n"
     ]
    }
   ],
   "source": [
    "#Goodness of fit measures (model may be overfitting based on RMSE for test data compared to RMSE for training data)\n",
    "print('RMSE for training data: {}'.format(sqrt(mean_squared_error(y_train,y_pred_train))))\n",
    "print('RMSE for test data: {}'.format(sqrt(mean_squared_error(y_test,y_pred_test))))\n",
    "print('R^2 for train data: {}'.format(r2_score(y_train,y_pred_train)))\n",
    "print('R^2 for test data: {}'.format(r2_score(y_test,y_pred_test)))"
   ]
  },
  {
   "cell_type": "code",
   "execution_count": 12,
   "id": "4cfd8ef8",
   "metadata": {},
   "outputs": [
    {
     "name": "stdout",
     "output_type": "stream",
     "text": [
      "   train_r2   test_r2     train_rmse      test_rmse\n",
      "0  0.938489  0.945507  199154.453569  203730.675096\n",
      "1  0.937040  0.940333  202013.239207  208983.637024\n",
      "2  0.942069  0.878664  198063.727336  237813.727116\n",
      "3  0.941882  0.942210  194700.424713  200418.383697\n",
      "4  0.937275  0.934153  205801.606752  178762.271675\n",
      "5  0.937826  0.899173  194912.179368  322357.891937\n",
      "6  0.940057  0.914361  196974.637355  251796.309834\n",
      "7  0.941325  0.847483  201291.243455  227614.444830\n",
      "8  0.939166  0.939686  200744.508586  190589.752768\n",
      "9  0.942299  0.841575  194563.058537  323351.554869\n"
     ]
    }
   ],
   "source": [
    "#Cross Validation\n",
    "dt2 = DecisionTreeRegressor(random_state=0,max_depth=5) #added max_depth parameter to prevent overfitting\n",
    "scoring = {'r2': 'r2',\n",
    "           'rmse': 'neg_root_mean_squared_error'}\n",
    "results = cross_validate(dt2, X, y, scoring=scoring, cv=10, return_train_score=True)\n",
    "\n",
    "train_r2 = results['train_r2']\n",
    "test_r2 = results['test_r2']\n",
    "train_rmse = np.abs(results['train_rmse'])\n",
    "test_rmse = np.abs(results['test_rmse'])\n",
    "\n",
    "results_df = pd.DataFrame({'train_r2':train_r2, 'test_r2': test_r2, 'train_rmse': train_rmse, 'test_rmse':test_rmse})\n",
    "print(results_df)"
   ]
  },
  {
   "cell_type": "code",
   "execution_count": 13,
   "id": "0e1e2a03",
   "metadata": {},
   "outputs": [
    {
     "data": {
      "image/png": "[encoded data removed]",
      "text/plain": [
       "<Figure size 432x288 with 1 Axes>"
      ]
     },
     "metadata": {
      "needs_background": "light"
     },
     "output_type": "display_data"
    },
    {
     "data": {
      "image/png": "[encoded data removed]",
      "text/plain": [
       "<Figure size 432x288 with 1 Axes>"
      ]
     },
     "metadata": {
      "needs_background": "light"
     },
     "output_type": "display_data"
    },
    {
     "data": {
      "image/png": "[encoded data removed]",
      "text/plain": [
       "<Figure size 432x288 with 1 Axes>"
      ]
     },
     "metadata": {
      "needs_background": "light"
     },
     "output_type": "display_data"
    },
    {
     "data": {
      "image/png": "[encoded data removed]",
      "text/plain": [
       "<Figure size 432x288 with 1 Axes>"
      ]
     },
     "metadata": {
      "needs_background": "light"
     },
     "output_type": "display_data"
    },
    {
     "data": {
      "image/png": "[encoded data removed]",
      "text/plain": [
       "<Figure size 432x288 with 1 Axes>"
      ]
     },
     "metadata": {
      "needs_background": "light"
     },
     "output_type": "display_data"
    },
    {
     "data": {
      "image/png": "[encoded data removed]",
      "text/plain": [
       "<Figure size 432x288 with 1 Axes>"
      ]
     },
     "metadata": {
      "needs_background": "light"
     },
     "output_type": "display_data"
    }
   ],
   "source": [
    "#Bar Charts of results\n",
    "\n",
    "#R^2 group bar chart\n",
    "x_label = ['1','2','3','4','5','6','7','8','9','10']\n",
    "x_axis = np.arange(len(x_label))\n",
    "plt.figure()\n",
    "plt.bar(x_axis - 0.2, train_r2, 0.4, label = 'train')\n",
    "plt.bar(x_axis + 0.2, test_r2, 0.4, label = 'test')\n",
    "plt.xticks(x_axis, x_label)\n",
    "plt.xlabel('Model')\n",
    "plt.ylabel('R^2')\n",
    "plt.legend(loc = 'lower right')\n",
    "plt.title('10-fold cross validation')\n",
    "plt.show()\n",
    "\n",
    "#Train R^2 bar chart\n",
    "plt.figure()\n",
    "plt.bar(x_axis, train_r2)\n",
    "plt.xticks(x_axis, x_label)\n",
    "plt.xlabel('Model')\n",
    "plt.ylabel('R^2')\n",
    "plt.title('R^2 for Training data with Mean')\n",
    "plt.axhline(y = np.mean(train_r2), color='black')\n",
    "plt.show()\n",
    "\n",
    "#Test R^2 bar chart\n",
    "plt.figure()\n",
    "plt.bar(x_axis, test_r2, color='tab:orange')\n",
    "plt.xticks(x_axis, x_label)\n",
    "plt.xlabel('Model')\n",
    "plt.ylabel('R^2')\n",
    "plt.title('R^2 for Test data with Mean')\n",
    "plt.axhline(y = np.mean(test_r2), color='black')\n",
    "plt.show()\n",
    "\n",
    "#RMSE group bar chart\n",
    "plt.figure()\n",
    "plt.bar(x_axis - 0.2, train_rmse, 0.4, label = 'train')\n",
    "plt.bar(x_axis + 0.2, test_rmse, 0.4, label = 'test')\n",
    "plt.xticks(x_axis, x_label)\n",
    "plt.xlabel('Model')\n",
    "plt.ylabel('RMSE')\n",
    "plt.legend(loc = 'lower right')\n",
    "plt.title('10-fold cross validation')\n",
    "plt.show()\n",
    "\n",
    "#Train RMSE bar chart\n",
    "plt.figure()\n",
    "plt.bar(x_axis, train_rmse)\n",
    "plt.xticks(x_axis, x_label)\n",
    "plt.xlabel('Model')\n",
    "plt.ylabel('RMSE')\n",
    "plt.title('RMSE for Training data with Mean')\n",
    "plt.axhline(y = np.mean(train_rmse), color='black')\n",
    "plt.show()\n",
    "\n",
    "#Test R^2 bar chart\n",
    "plt.figure()\n",
    "plt.bar(x_axis, test_rmse, color='tab:orange')\n",
    "plt.xticks(x_axis, x_label)\n",
    "plt.xlabel('Model')\n",
    "plt.ylabel('RMSE')\n",
    "plt.title('RMSE for Test data with Mean')\n",
    "plt.axhline(y = np.mean(test_rmse), color='black')\n",
    "plt.show()"
   ]
  }
 ],
 "metadata": {
  "kernelspec": {
   "display_name": "Python 3 (ipykernel)",
   "language": "python",
   "name": "python3"
  },
  "language_info": {
   "codemirror_mode": {
    "name": "ipython",
    "version": 3
   },
   "file_extension": ".py",
   "mimetype": "text/x-python",
   "name": "python",
   "nbconvert_exporter": "python",
   "pygments_lexer": "ipython3",
   "version": "3.8.8"
  }
 },
 "nbformat": 4,
 "nbformat_minor": 5
}

{
 "cells": [
  {
   "cell_type": "markdown",
   "id": "a4d491da",
   "metadata": {},
   "source": [
    "# Decision Tree Regressor"
   ]
  },
  {
   "cell_type": "code",
   "execution_count": 13,
   "id": "fc96920d",
   "metadata": {},
   "outputs": [],
   "source": [
    "#Required Packages\n",
    "import numpy as np\n",
    "import pandas as pd\n",
    "import matplotlib.pyplot as plt\n",
    "from sklearn.model_selection import train_test_split, cross_validate\n",
    "from sklearn.metrics import mean_squared_error, r2_score\n",
    "from math import sqrt\n",
    "from sklearn.tree import DecisionTreeRegressor\n"
   ]
  },
  {
   "cell_type": "code",
   "execution_count": 14,
   "id": "6bf26c1a",
   "metadata": {},
   "outputs": [],
   "source": [
    "#Reading in cleaned data\n",
    "df = pd.read_excel('Car_details_v3_cleaned.xlsx',index_col=0)"
   ]
  },
  {
   "cell_type": "code",
   "execution_count": 15,
   "id": "d0f79d9d",
   "metadata": {},
   "outputs": [],
   "source": [
    "#Changing fuel to dummy variable (Petrol=0, Diesel=1)\n",
    "df['fuel'] = np.where(df['fuel']=='Diesel',1,0)"
   ]
  },
  {
   "cell_type": "code",
   "execution_count": 16,
   "id": "ee7d7697",
   "metadata": {},
   "outputs": [],
   "source": [
    "#Changing transmission to dummy variable (Manual=0, Automatic=1)\n",
    "df['transmission'] = np.where(df['transmission']=='Automatic',1,0)"
   ]
  },
  {
   "cell_type": "code",
   "execution_count": 17,
   "id": "164cac70",
   "metadata": {},
   "outputs": [
    {
     "name": "stdout",
     "output_type": "stream",
     "text": [
      "      year  selling_price  km_driven  fuel  transmission  mileage  engine  \\\n",
      "0     2014         450000     145500     1             0    23.40    1248   \n",
      "1     2014         370000     120000     1             0    21.14    1498   \n",
      "2     2006         158000     140000     0             0    17.70    1497   \n",
      "3     2010         225000     127000     1             0    23.00    1396   \n",
      "4     2007         130000     120000     0             0    16.10    1298   \n",
      "...    ...            ...        ...   ...           ...      ...     ...   \n",
      "8123  2013         320000     110000     0             0    18.50    1197   \n",
      "8124  2007         135000     119000     1             0    16.80    1493   \n",
      "8125  2009         382000     120000     1             0    19.30    1248   \n",
      "8126  2013         290000      25000     1             0    23.57    1396   \n",
      "8127  2013         290000      25000     1             0    23.57    1396   \n",
      "\n",
      "      max_power  seats  origin  Dealer  Individual  \n",
      "0         74.00      5    Asia       0           1  \n",
      "1        103.52      5  Europe       0           1  \n",
      "2         78.00      5    Asia       0           1  \n",
      "3         90.00      5    Asia       0           1  \n",
      "4         88.20      5    Asia       0           1  \n",
      "...         ...    ...     ...     ...         ...  \n",
      "8123      82.85      5    Asia       0           1  \n",
      "8124     110.00      5    Asia       0           1  \n",
      "8125      73.90      5    Asia       0           1  \n",
      "8126      70.00      5    Asia       0           1  \n",
      "8127      70.00      5    Asia       0           1  \n",
      "\n",
      "[7818 rows x 12 columns]\n"
     ]
    }
   ],
   "source": [
    "#One hot encoding seller_type\n",
    "seller_type = pd.get_dummies(df['seller_type'])\n",
    "df_tree = pd.concat([df,seller_type],axis=1)\n",
    "df_tree.drop(['seller_type','Trustmark Dealer'],axis=1,inplace=True)\n",
    "print(df_tree)"
   ]
  },
  {
   "cell_type": "code",
   "execution_count": 18,
   "id": "ad199d07",
   "metadata": {},
   "outputs": [
    {
     "name": "stdout",
     "output_type": "stream",
     "text": [
      "      year  selling_price  km_driven  fuel  transmission  mileage  engine  \\\n",
      "0     2014         450000     145500     1             0    23.40    1248   \n",
      "1     2014         370000     120000     1             0    21.14    1498   \n",
      "2     2006         158000     140000     0             0    17.70    1497   \n",
      "3     2010         225000     127000     1             0    23.00    1396   \n",
      "4     2007         130000     120000     0             0    16.10    1298   \n",
      "...    ...            ...        ...   ...           ...      ...     ...   \n",
      "8123  2013         320000     110000     0             0    18.50    1197   \n",
      "8124  2007         135000     119000     1             0    16.80    1493   \n",
      "8125  2009         382000     120000     1             0    19.30    1248   \n",
      "8126  2013         290000      25000     1             0    23.57    1396   \n",
      "8127  2013         290000      25000     1             0    23.57    1396   \n",
      "\n",
      "      max_power  seats  Dealer  Individual  Asia  Europe  \n",
      "0         74.00      5       0           1     1       0  \n",
      "1        103.52      5       0           1     0       1  \n",
      "2         78.00      5       0           1     1       0  \n",
      "3         90.00      5       0           1     1       0  \n",
      "4         88.20      5       0           1     1       0  \n",
      "...         ...    ...     ...         ...   ...     ...  \n",
      "8123      82.85      5       0           1     1       0  \n",
      "8124     110.00      5       0           1     1       0  \n",
      "8125      73.90      5       0           1     1       0  \n",
      "8126      70.00      5       0           1     1       0  \n",
      "8127      70.00      5       0           1     1       0  \n",
      "\n",
      "[7818 rows x 13 columns]\n"
     ]
    }
   ],
   "source": [
    "#One hot encoding origin\n",
    "origin = pd.get_dummies(df['origin'])\n",
    "df_tree = pd.concat([df_tree,origin],axis=1)\n",
    "df_tree.drop(['origin','North America'],axis=1,inplace=True)\n",
    "print(df_tree)"
   ]
  },
  {
   "cell_type": "code",
   "execution_count": 19,
   "id": "8f6085bc",
   "metadata": {},
   "outputs": [],
   "source": [
    "#Splitting data into training and test data\n",
    "X = df_tree.drop('selling_price',axis=1)\n",
    "y = df_tree['selling_price']\n",
    "X_train,X_test,y_train,y_test = train_test_split(X,y,random_state=0)"
   ]
  },
  {
   "cell_type": "code",
   "execution_count": 20,
   "id": "6157d0f0",
   "metadata": {},
   "outputs": [
    {
     "data": {
      "text/plain": [
       "DecisionTreeRegressor(random_state=0)"
      ]
     },
     "execution_count": 20,
     "metadata": {},
     "output_type": "execute_result"
    }
   ],
   "source": [
    "# Decision Tree with default parameters\n",
    "dt = DecisionTreeRegressor(random_state=0)\n",
    "dt.fit(X_train, y_train)"
   ]
  },
  {
   "cell_type": "code",
   "execution_count": 21,
   "id": "d3996115",
   "metadata": {},
   "outputs": [],
   "source": [
    "#Predicting selling_price for train and test data\n",
    "y_pred_train = dt.predict(X_train)\n",
    "y_pred_test = dt.predict(X_test)"
   ]
  },
  {
   "cell_type": "code",
   "execution_count": 22,
   "id": "e9a31003",
   "metadata": {},
   "outputs": [
    {
     "name": "stdout",
     "output_type": "stream",
     "text": [
      "RMSE for training data: 18647.029134630797\n",
      "RMSE for test data: 177739.45761182357\n",
      "R^2 for train data: 0.9994904756531583\n",
      "R^2 for test data: 0.945357570233085\n"
     ]
    }
   ],
   "source": [
    "#Goodness of fit measures (model may be overfitting based on RMSE for test data compared to RMSE for training data)\n",
    "print('RMSE for training data: {}'.format(sqrt(mean_squared_error(y_train,y_pred_train))))\n",
    "print('RMSE for test data: {}'.format(sqrt(mean_squared_error(y_test,y_pred_test))))\n",
    "print('R^2 for train data: {}'.format(r2_score(y_train,y_pred_train)))\n",
    "print('R^2 for test data: {}'.format(r2_score(y_test,y_pred_test)))"
   ]
  },
  {
   "cell_type": "code",
   "execution_count": 23,
   "id": "f81f2208",
   "metadata": {},
   "outputs": [
    {
     "name": "stdout",
     "output_type": "stream",
     "text": [
      "   train_r2   test_r2     train_rmse      test_rmse\n",
      "0  0.938455  0.945508  199182.004023  203728.373216\n",
      "1  0.937002  0.940332  202045.841421  208985.760003\n",
      "2  0.942035  0.878610  198098.212771  237815.428812\n",
      "3  0.941845  0.942237  194730.842426  200414.093824\n",
      "4  0.937452  0.937796  205688.751979  171447.573314\n",
      "5  0.938118  0.897515  194211.808032  326631.163286\n",
      "6  0.940063  0.913980  196948.711217  252215.509773\n",
      "7  0.941292  0.847529  201330.766967  227483.919950\n",
      "8  0.939133  0.939684  200771.594395  190592.959553\n",
      "9  0.942266  0.841575  194593.040052  323351.445186\n",
      "                     Mean\n",
      "train_r2         0.939766\n",
      "test_r2          0.908477\n",
      "train_rmse  198760.157328\n",
      "test_rmse   234266.622692\n"
     ]
    }
   ],
   "source": [
    "#Cross Validation\n",
    "dt2 = DecisionTreeRegressor(random_state=0,max_depth=5) #added max_depth parameter to prevent overfitting\n",
    "scoring = {'r2': 'r2',\n",
    "           'rmse': 'neg_root_mean_squared_error'}\n",
    "results = cross_validate(dt2, X, y, scoring=scoring, cv=10, return_train_score=True) #10 fold cross validation\n",
    "\n",
    "train_r2 = results['train_r2']\n",
    "test_r2 = results['test_r2']\n",
    "train_rmse = np.abs(results['train_rmse'])\n",
    "test_rmse = np.abs(results['test_rmse'])\n",
    "\n",
    "results_df = pd.DataFrame({'train_r2':train_r2, 'test_r2': test_r2, 'train_rmse': train_rmse, 'test_rmse':test_rmse})\n",
    "mean_results_df = pd.DataFrame({'Mean': [np.mean(train_r2),np.mean(test_r2),np.mean(train_rmse),np.mean(test_rmse)]})\n",
    "mean_results_df.index = ['train_r2','test_r2','train_rmse','test_rmse']\n",
    "print(results_df)\n",
    "print(mean_results_df)"
   ]
  },
  {
   "cell_type": "code",
   "execution_count": 24,
   "id": "d73d3619",
   "metadata": {},
   "outputs": [
    {
     "data": {
      "image/png": "[encoded data removed]",
      "text/plain": [
       "<Figure size 432x288 with 1 Axes>"
      ]
     },
     "metadata": {
      "needs_background": "light"
     },
     "output_type": "display_data"
    },
    {
     "data": {
      "image/png": "[encoded data removed]",
      "text/plain": [
       "<Figure size 432x288 with 1 Axes>"
      ]
     },
     "metadata": {
      "needs_background": "light"
     },
     "output_type": "display_data"
    },
    {
     "data": {
      "image/png": "[encoded data removed]",
      "text/plain": [
       "<Figure size 432x288 with 1 Axes>"
      ]
     },
     "metadata": {
      "needs_background": "light"
     },
     "output_type": "display_data"
    },
    {
     "data": {
      "image/png": "[encoded data removed]",
      "text/plain": [
       "<Figure size 432x288 with 1 Axes>"
      ]
     },
     "metadata": {
      "needs_background": "light"
     },
     "output_type": "display_data"
    },
    {
     "data": {
      "image/png": "[encoded data removed]",
      "text/plain": [
       "<Figure size 432x288 with 1 Axes>"
      ]
     },
     "metadata": {
      "needs_background": "light"
     },
     "output_type": "display_data"
    },
    {
     "data": {
      "image/png": "[encoded data removed]",
      "text/plain": [
       "<Figure size 432x288 with 1 Axes>"
      ]
     },
     "metadata": {
      "needs_background": "light"
     },
     "output_type": "display_data"
    }
   ],
   "source": [
    "#Bar Charts of results\n",
    "\n",
    "#R^2 group bar chart\n",
    "x_label = ['1','2','3','4','5','6','7','8','9','10']\n",
    "x_axis = np.arange(len(x_label))\n",
    "plt.figure()\n",
    "plt.bar(x_axis - 0.2, train_r2, 0.4, label = 'train')\n",
    "plt.bar(x_axis + 0.2, test_r2, 0.4, label = 'test')\n",
    "plt.xticks(x_axis, x_label)\n",
    "plt.xlabel('Model')\n",
    "plt.ylabel('R^2')\n",
    "plt.legend(loc = 'lower right')\n",
    "plt.title('10-fold cross validation')\n",
    "plt.show()\n",
    "\n",
    "#Train R^2 bar chart\n",
    "plt.figure()\n",
    "plt.bar(x_axis, train_r2)\n",
    "plt.xticks(x_axis, x_label)\n",
    "plt.xlabel('Model')\n",
    "plt.ylabel('R^2')\n",
    "plt.title('R^2 for Training data with Mean')\n",
    "plt.axhline(y = np.mean(train_r2), color='black')\n",
    "plt.show()\n",
    "\n",
    "#Test R^2 bar chart\n",
    "plt.figure()\n",
    "plt.bar(x_axis, test_r2, color='tab:orange')\n",
    "plt.xticks(x_axis, x_label)\n",
    "plt.xlabel('Model')\n",
    "plt.ylabel('R^2')\n",
    "plt.title('R^2 for Test data with Mean')\n",
    "plt.axhline(y = np.mean(test_r2), color='black')\n",
    "plt.show()\n",
    "\n",
    "#RMSE group bar chart\n",
    "plt.figure()\n",
    "plt.bar(x_axis - 0.2, train_rmse, 0.4, label = 'train')\n",
    "plt.bar(x_axis + 0.2, test_rmse, 0.4, label = 'test')\n",
    "plt.xticks(x_axis, x_label)\n",
    "plt.xlabel('Model')\n",
    "plt.ylabel('RMSE')\n",
    "plt.legend(loc = 'lower right')\n",
    "plt.title('10-fold cross validation')\n",
    "plt.show()\n",
    "\n",
    "#Train RMSE bar chart\n",
    "plt.figure()\n",
    "plt.bar(x_axis, train_rmse)\n",
    "plt.xticks(x_axis, x_label)\n",
    "plt.xlabel('Model')\n",
    "plt.ylabel('RMSE')\n",
    "plt.title('RMSE for Training data with Mean')\n",
    "plt.axhline(y = np.mean(train_rmse), color='black')\n",
    "plt.show()\n",
    "\n",
    "#Test R^2 bar chart\n",
    "plt.figure()\n",
    "plt.bar(x_axis, test_rmse, color='tab:orange')\n",
    "plt.xticks(x_axis, x_label)\n",
    "plt.xlabel('Model')\n",
    "plt.ylabel('RMSE')\n",
    "plt.title('RMSE for Test data with Mean')\n",
    "plt.axhline(y = np.mean(test_rmse), color='black')\n",
    "plt.show()"
   ]
  }
 ],
 "metadata": {
  "kernelspec": {
   "display_name": "Python 3 (ipykernel)",
   "language": "python",
   "name": "python3"
  },
  "language_info": {
   "codemirror_mode": {
    "name": "ipython",
    "version": 3
   },
   "file_extension": ".py",
   "mimetype": "text/x-python",
   "name": "python",
   "nbconvert_exporter": "python",
   "pygments_lexer": "ipython3",
   "version": "3.8.8"
  }
 },
 "nbformat": 4,
 "nbformat_minor": 5
}
